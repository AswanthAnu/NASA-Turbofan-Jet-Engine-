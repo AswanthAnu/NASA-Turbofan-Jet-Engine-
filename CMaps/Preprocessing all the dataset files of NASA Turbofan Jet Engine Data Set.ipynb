{
 "cells": [
  {
   "cell_type": "code",
   "execution_count": 1,
   "id": "d6ee2f3c",
   "metadata": {},
   "outputs": [],
   "source": [
    "import pandas as pd\n",
    "import numpy as np\n",
    "import warnings \n",
    "warnings.filterwarnings(\"ignore\")"
   ]
  },
  {
   "cell_type": "code",
   "execution_count": 2,
   "id": "e9a2a407",
   "metadata": {},
   "outputs": [],
   "source": [
    "def remaining_cycle(df, number_of_units):\n",
    "    rul_values = []\n",
    "    for i in range(1, number_of_units + 1):\n",
    "        max_cycle = df[df[\"Unit No\"] == i].Cycle.max()\n",
    "        rul = max_cycle - df[df[\"Unit No\"] == i].Cycle\n",
    "        rul_values.extend(rul.tolist())\n",
    "    rul_df = pd.DataFrame({'RUL': rul_values})\n",
    "    return rul_df"
   ]
  },
  {
   "cell_type": "code",
   "execution_count": 3,
   "id": "b3bb1329",
   "metadata": {},
   "outputs": [],
   "source": [
    "def handling_outliers(df):\n",
    "    # using IQR technique \n",
    "    Q1 = df.quantile(0.25)\n",
    "    Q3 = df.quantile(0.75)\n",
    "    IQR = Q3 - Q1\n",
    "    iqr_factor = 1.5\n",
    "\n",
    "    lower_bound = Q1 - iqr_factor * IQR\n",
    "    upper_bound = Q3 + iqr_factor * IQR\n",
    "    \n",
    "    for col in df.iloc[:, :-1].columns:\n",
    "        df[col] = np.where(df[col] < lower_bound[col], lower_bound[col], df[col])\n",
    "        df[col] = np.where(df[col] > upper_bound[col], upper_bound[col], df[col])\n",
    "    return df"
   ]
  },
  {
   "cell_type": "code",
   "execution_count": 4,
   "id": "26dea249",
   "metadata": {},
   "outputs": [],
   "source": [
    "def preprocess_train_data(file_name, file_no, remaining_cycle, handling_outliers):\n",
    "    df_name = f\"df_{file_no}\"\n",
    "    \n",
    "    df_name= pd.read_csv(file_name, sep=\" \", header=None)\n",
    "    \n",
    "    df_name .drop([26, 27], inplace=True, axis=1)\n",
    "    \n",
    "    df_name.columns = [\"Unit No\", 'Cycle', 'OS1', 'OS2', 'OS3', 'SM1', 'SM2', 'SM3', 'SM4', 'SM5', 'SM6', 'SM7', 'SM8', 'SM9', 'SM10', 'SM11', 'SM12', 'SM13', 'SM14', 'SM15', 'SM16', 'SM17', 'SM18', 'SM19', 'SM20', 'SM21',]\n",
    "    \n",
    "    \n",
    "    # creating target variable\n",
    "    number_of_units = df_name[\"Unit No\"].max()\n",
    "    rul_df = remaining_cycle(df_name, number_of_units)\n",
    "    \n",
    "    # concatinating features and target\n",
    "    important_features = df_name[['Cycle', 'SM2', 'SM3', 'SM4', 'SM7', 'SM8', 'SM9', 'SM11', 'SM12', 'SM13', 'SM15', 'SM17', 'SM20', 'SM21']]\n",
    "    new_df = pd.concat([important_features, rul_df], axis=1)\n",
    "    \n",
    "    # handling outliers\n",
    "    preprocessed_df = handling_outliers(new_df)\n",
    "    preprocessed_df.head()\n",
    "    \n",
    "    \n",
    "    return preprocessed_df.to_csv(f'Preprocessed_train_{file_no}.csv', index=False)\n",
    "\n",
    "    \n",
    "    "
   ]
  },
  {
   "cell_type": "code",
   "execution_count": 5,
   "id": "baee5c20",
   "metadata": {},
   "outputs": [],
   "source": [
    "def preprocess_test_data(file_name, file_no, remaining_cycle):\n",
    "    df_name = f\"df_{file_no}\"\n",
    "    \n",
    "    df_name= pd.read_csv(file_name, sep=\" \", header=None)\n",
    "    \n",
    "    df_name .drop([26, 27], inplace=True, axis=1)\n",
    "    \n",
    "    df_name.columns = [\"Unit No\", 'Cycle', 'OS1', 'OS2', 'OS3', 'SM1', 'SM2', 'SM3', 'SM4', 'SM5', 'SM6', 'SM7', 'SM8', 'SM9', 'SM10', 'SM11', 'SM12', 'SM13', 'SM14', 'SM15', 'SM16', 'SM17', 'SM18', 'SM19', 'SM20', 'SM21',]\n",
    "    \n",
    "    \n",
    "    # creating target variable\n",
    "    number_of_units = df_name[\"Unit No\"].max()\n",
    "    rul_df = remaining_cycle(df_name, number_of_units)\n",
    "    \n",
    "    # concatinating features and target\n",
    "    important_features = df_name[['Cycle', 'SM2', 'SM3', 'SM4', 'SM7', 'SM8', 'SM9', 'SM11', 'SM12', 'SM13', 'SM15', 'SM17', 'SM20', 'SM21']]\n",
    "    new_df = pd.concat([important_features, rul_df], axis=1)\n",
    "    \n",
    "\n",
    "    \n",
    "    return new_df.to_csv(f'Preprocessed_test_{file_no}.csv', index=False)\n",
    "\n",
    "    \n",
    "    "
   ]
  },
  {
   "cell_type": "code",
   "execution_count": 6,
   "id": "2b3d74c7",
   "metadata": {},
   "outputs": [],
   "source": [
    "preprocess_train_data('train_FD001.txt', 1, remaining_cycle, handling_outliers)\n",
    "preprocess_train_data('train_FD002.txt', 2, remaining_cycle, handling_outliers)\n",
    "preprocess_train_data('train_FD003.txt', 3, remaining_cycle, handling_outliers)\n",
    "preprocess_train_data('train_FD004.txt', 4, remaining_cycle, handling_outliers)\n"
   ]
  },
  {
   "cell_type": "code",
   "execution_count": 7,
   "id": "582134f5",
   "metadata": {},
   "outputs": [],
   "source": [
    "preprocess_test_data('test_FD001.txt', 1, remaining_cycle)\n",
    "preprocess_test_data('test_FD002.txt', 2, remaining_cycle)\n",
    "preprocess_test_data('test_FD003.txt', 3, remaining_cycle)\n",
    "preprocess_test_data('test_FD004.txt', 4, remaining_cycle)"
   ]
  },
  {
   "cell_type": "code",
   "execution_count": null,
   "id": "1c510a88",
   "metadata": {},
   "outputs": [],
   "source": []
  }
 ],
 "metadata": {
  "kernelspec": {
   "display_name": "bobbykernal",
   "language": "python",
   "name": "bobbykernal"
  },
  "language_info": {
   "codemirror_mode": {
    "name": "ipython",
    "version": 3
   },
   "file_extension": ".py",
   "mimetype": "text/x-python",
   "name": "python",
   "nbconvert_exporter": "python",
   "pygments_lexer": "ipython3",
   "version": "3.10.6"
  }
 },
 "nbformat": 4,
 "nbformat_minor": 5
}
